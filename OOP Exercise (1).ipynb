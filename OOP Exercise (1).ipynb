{
 "cells": [
  {
   "cell_type": "markdown",
   "id": "36c111bd",
   "metadata": {},
   "source": [
    "# Exercises"
   ]
  },
  {
   "cell_type": "markdown",
   "id": "eab7fb67",
   "metadata": {},
   "source": [
    "## Question One:\n",
    "\n",
    "## Implement a Python module math_operations containing a class Calculator with methods for addition, subtraction, multiplication, and division. Write another Python script that imports the module and demonstrates the usage of the Calculator class to perform arithmetic operations."
   ]
  },
  {
   "cell_type": "code",
   "execution_count": 2,
   "id": "0cdc70ad",
   "metadata": {},
   "outputs": [
    {
     "name": "stdout",
     "output_type": "stream",
     "text": [
      "Addition result: 8\n",
      "Subtraction result: 2\n",
      "Multiplication result: 15\n",
      "Division result: 1.6666666666666667\n"
     ]
    }
   ],
   "source": [
    "from math_operations import Calculator\n",
    "\n",
    "# Create an instance of the Calculator class\n",
    "calc = Calculator()\n",
    "\n",
    "# Perform arithmetic operations\n",
    "result_addition = calc.add(5, 3)\n",
    "print(\"Addition result:\", result_addition)\n",
    "\n",
    "result_subtraction = calc.subtract(5, 3)\n",
    "print(\"Subtraction result:\", result_subtraction)\n",
    "\n",
    "result_multiplication = calc.multiply(5, 3)\n",
    "print(\"Multiplication result:\", result_multiplication)\n",
    "\n",
    "result_division = calc.divide(5, 3)\n",
    "print(\"Division result:\", result_division)\n"
   ]
  },
  {
   "cell_type": "markdown",
   "id": "cc64e4a7",
   "metadata": {},
   "source": [
    "## Question Two:\n",
    "\n",
    "## Define a base class Animal with a method make_sound(). Implement subclasses Dog and Cat that override the make_sound() method with their own sound. Create objects of both subclasses and call the make_sound() method to hear their respective sounds."
   ]
  },
  {
   "cell_type": "code",
   "execution_count": 4,
   "id": "3d571469",
   "metadata": {},
   "outputs": [
    {
     "name": "stdout",
     "output_type": "stream",
     "text": [
      "Dog sounds: Woof!\n",
      "Cat sounds: Meow!\n"
     ]
    }
   ],
   "source": [
    "class Animal:\n",
    "    def __init__(self):\n",
    "        pass\n",
    "    \n",
    "    def make_sound(self):\n",
    "        pass\n",
    "\n",
    "class Dog(Animal):\n",
    "    def __init__(self):\n",
    "        super().__init__()\n",
    "    \n",
    "    def make_sound(self):\n",
    "        return \"Woof!\"\n",
    "\n",
    "class Cat(Animal):\n",
    "    def __init__(self):\n",
    "        super().__init__()\n",
    "    \n",
    "    def make_sound(self):\n",
    "        return \"Meow!\"\n",
    "\n",
    "# Create objects of both subclasses\n",
    "dog = Dog()\n",
    "cat = Cat()\n",
    "\n",
    "# Call the make_sound() method to hear their respective sounds\n",
    "print(\"Dog sounds:\", dog.make_sound())\n",
    "print(\"Cat sounds:\", cat.make_sound())\n"
   ]
  },
  {
   "cell_type": "markdown",
   "id": "5f9ac182",
   "metadata": {},
   "source": [
    "## Question Three:\n",
    "\n",
    "## Design an abstract class Shape with abstract methods area() and perimeter(). Implement concrete subclasses Square and Triangle that provide their own implementations of these methods. Demonstrate the use of abstraction by creating objects of the subclasses."
   ]
  },
  {
   "cell_type": "code",
   "execution_count": 4,
   "id": "9a351fa9",
   "metadata": {},
   "outputs": [
    {
     "name": "stdout",
     "output_type": "stream",
     "text": [
      "Square:\n",
      "Area: 25\n",
      "Perimeter: 20\n",
      "\n",
      "Triangle:\n",
      "Area: 6.0\n",
      "Perimeter: 12\n"
     ]
    }
   ],
   "source": [
    "from abc import ABC, abstractmethod\n",
    "\n",
    "class Shape(ABC):\n",
    "    @abstractmethod\n",
    "    def area(self):\n",
    "        pass\n",
    "    \n",
    "    @abstractmethod\n",
    "    def perimeter(self):\n",
    "        pass\n",
    "\n",
    "class Square(Shape):\n",
    "    def __init__(self, side):\n",
    "        self.side = side\n",
    "    \n",
    "    def area(self):\n",
    "        return self.side * self.side\n",
    "    \n",
    "    def perimeter(self):\n",
    "        return 4 * self.side\n",
    "\n",
    "class Triangle(Shape):\n",
    "    def __init__(self, side1, side2, side3):\n",
    "        self.side1 = side1\n",
    "        self.side2 = side2\n",
    "        self.side3 = side3\n",
    "    \n",
    "    def area(self):\n",
    "        # Using Heron's formula to calculate the area of a triangle\n",
    "        s = (self.side1 + self.side2 + self.side3) / 2\n",
    "        return (s * (s - self.side1) * (s - self.side2) * (s - self.side3)) ** 0.5\n",
    "    \n",
    "    def perimeter(self):\n",
    "        return self.side1 + self.side2 + self.side3\n",
    "\n",
    "# Demonstrate the use of abstraction by creating objects of the subclasses\n",
    "square = Square(5)\n",
    "triangle = Triangle(3, 4, 5)\n",
    "\n",
    "print(\"Square:\")\n",
    "print(\"Area:\", square.area())\n",
    "print(\"Perimeter:\", square.perimeter())  \n",
    "print(\"\")\n",
    "print(\"Triangle:\")\n",
    "print(\"Area:\", triangle.area())\n",
    "print(\"Perimeter:\", triangle.perimeter())\n"
   ]
  },
  {
   "cell_type": "markdown",
   "id": "402503e6",
   "metadata": {},
   "source": [
    "## Question Four:\n",
    "\n",
    "## Create a Python class Employee with private attributes (_name, _id, _salary) and methods to set and get these attributes. Implement a method to calculate the yearly bonus based on the salary Assuming 10% of salary as bonus.\n"
   ]
  },
  {
   "cell_type": "code",
   "execution_count": 6,
   "id": "b9d6349c",
   "metadata": {},
   "outputs": [
    {
     "name": "stdout",
     "output_type": "stream",
     "text": [
      "Employee Name: John\n",
      "Employee ID: E123\n",
      "Employee Salary: 50000\n",
      "Yearly Bonus: 5000.0\n"
     ]
    }
   ],
   "source": [
    "class Employee:\n",
    "    def __init__(self, name, emp_id, salary):\n",
    "        self._name = name\n",
    "        self._id = emp_id\n",
    "        self._salary = salary\n",
    "    \n",
    "    # Getter methods\n",
    "    def get_name(self):\n",
    "        return self._name\n",
    "    \n",
    "    def get_id(self):\n",
    "        return self._id\n",
    "    \n",
    "    def get_salary(self):\n",
    "        return self._salary\n",
    "    \n",
    "    # Setter methods\n",
    "    def set_name(self, name):\n",
    "        self._name = name\n",
    "    \n",
    "    def set_id(self, emp_id):\n",
    "        self._id = emp_id\n",
    "    \n",
    "    def set_salary(self, salary):\n",
    "        self._salary = salary\n",
    "    \n",
    "    # Method to calculate yearly bonus\n",
    "    def calculate_yearly_bonus(self):\n",
    "        return self._salary * 0.10  # Assuming 10% of salary as bonus\n",
    "\n",
    "# Create an Employee object\n",
    "emp = Employee(\"John\", \"E123\", 50000)\n",
    "\n",
    "# Get employee details\n",
    "print(\"Employee Name:\", emp.get_name())\n",
    "print(\"Employee ID:\", emp.get_id())\n",
    "print(\"Employee Salary:\", emp.get_salary())\n",
    "\n",
    "# Calculate and print yearly bonus\n",
    "print(\"Yearly Bonus:\", emp.calculate_yearly_bonus())\n"
   ]
  },
  {
   "cell_type": "markdown",
   "id": "a845b650",
   "metadata": {},
   "source": [
    "## Question Five\n",
    "\n",
    "## Implement a Python class StringUtils with a static method is_palindrome(string) that checks if a given string is a palindrome. Demonstrate the usage of this method by checking palindromes provided by the user."
   ]
  },
  {
   "cell_type": "code",
   "execution_count": 7,
   "id": "2b6194d5",
   "metadata": {},
   "outputs": [
    {
     "name": "stdout",
     "output_type": "stream",
     "text": [
      "The string is not a palindrome.\n",
      "The string is not a palindrome.\n",
      "The string is a palindrome.\n",
      "Goodbye!\n"
     ]
    }
   ],
   "source": [
    "class StringUtils:\n",
    "    @staticmethod\n",
    "    def is_palindrome(string):\n",
    "        # Convert the string to lowercase and remove non-alphanumeric characters\n",
    "        cleaned_string = ''.join(char.lower() for char in string if char.isalnum())\n",
    "        # Check if the cleaned string is equal to its reverse\n",
    "        return cleaned_string == cleaned_string[::-1]\n",
    "\n",
    "# Demonstrate the usage of the is_palindrome method\n",
    "while True:\n",
    "    user_input = input(\"Enter a string (or 'exit' to quit): \")\n",
    "    if user_input.lower() == \"exit\":\n",
    "        print(\"Goodbye!\")\n",
    "        break\n",
    "    if StringUtils.is_palindrome(user_input):\n",
    "        print(\"The string is a palindrome.\")\n",
    "    else:\n",
    "        print(\"The string is not a palindrome.\")\n"
   ]
  },
  {
   "cell_type": "markdown",
   "id": "7ae4b546",
   "metadata": {},
   "source": [
    "## Question Six\n",
    "\n",
    "## Write a Python program that prompts the user to enter some text, then writes this text to a file named \"output.txt\". After that, the program should read the contents of \"output.txt\" and display them on the console."
   ]
  },
  {
   "cell_type": "code",
   "execution_count": 8,
   "id": "d20803e4",
   "metadata": {},
   "outputs": [
    {
     "name": "stdout",
     "output_type": "stream",
     "text": [
      "Contents of output.txt:\n",
      "Hello my name is Angel from Blossom Accademy \n"
     ]
    }
   ],
   "source": [
    "# Prompt the user to enter some text\n",
    "user_text = input(\"Enter some text: \")\n",
    "\n",
    "# Write the text to a file named \"output.txt\"\n",
    "with open(\"output.txt\", \"w\") as file:\n",
    "    file.write(user_text)\n",
    "\n",
    "# Read the contents of \"output.txt\" and display them on the console\n",
    "with open(\"output.txt\", \"r\") as file:\n",
    "    file_contents = file.read()\n",
    "    print(\"Contents of output.txt:\")\n",
    "    print(file_contents)\n"
   ]
  },
  {
   "cell_type": "markdown",
   "id": "ff1f446e",
   "metadata": {},
   "source": [
    "## Question Seven:\n",
    "\n",
    "## Write a Python program that saves the strings \"My name is (your name)\", \"I am a student at blossom academy\", and \"I love Blossom Academy\" to a file named \"output.txt\". Then, read the contents of \"blossom.txt\" and print them on the console."
   ]
  },
  {
   "cell_type": "markdown",
   "id": "f4484ef6",
   "metadata": {},
   "source": []
  },
  {
   "cell_type": "code",
   "execution_count": 7,
   "id": "c48999b9",
   "metadata": {},
   "outputs": [
    {
     "name": "stdout",
     "output_type": "stream",
     "text": [
      "Contents of output_2.txt:\n",
      "My name is Angel\n",
      "I am a student at blossom academy\n",
      "I love Blossom Academy\n",
      "\n"
     ]
    }
   ],
   "source": [
    "# Strings to be saved to the file\n",
    "strings_to_write = [\n",
    "    \"My name is Angel\",\n",
    "    \"I am a student at blossom academy\",\n",
    "    \"I love Blossom Academy\"\n",
    "]\n",
    "\n",
    "# Write the strings to a file named \"output_2.txt\"\n",
    "with open(\"output_2.txt\", \"w\") as file:\n",
    "    for string in strings_to_write:\n",
    "        file.write(string + \"\\n\")\n",
    "\n",
    "# Read the contents of \"output_2.txt\" and print them on the console\n",
    "with open(\"output_2.txt\", \"r\") as file:\n",
    "    file_contents = file.read()\n",
    "    print(\"Contents of output_2.txt:\")\n",
    "    print(file_contents)\n"
   ]
  },
  {
   "cell_type": "code",
   "execution_count": null,
   "id": "e4f33c1a",
   "metadata": {},
   "outputs": [],
   "source": []
  }
 ],
 "metadata": {
  "kernelspec": {
   "display_name": "Python 3 (ipykernel)",
   "language": "python",
   "name": "python3"
  },
  "language_info": {
   "codemirror_mode": {
    "name": "ipython",
    "version": 3
   },
   "file_extension": ".py",
   "mimetype": "text/x-python",
   "name": "python",
   "nbconvert_exporter": "python",
   "pygments_lexer": "ipython3",
   "version": "3.11.7"
  }
 },
 "nbformat": 4,
 "nbformat_minor": 5
}
